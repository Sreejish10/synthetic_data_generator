{
  "cells": [
    {
      "cell_type": "markdown",
      "id": "28f3f06d",
      "metadata": {},
      "source": [
        "# Synthetic Data Generation with DSPy and Pydantic\n",
        "This notebook demonstrates generating synthetic sales data with **DSPy** using column-level signatures and **Pydantic v2** for validation."
      ]
    },
    {
      "cell_type": "markdown",
      "metadata": {},
      "source": [
        "\n",
        " Demonstrates how to configure **DSPy** to work with a locally \n",
        " hosted **Ollama** LLM (Llama 3.2). Dspy: https://dspy.ai/ Its a declarative framework enabling us to build AI worflows using LLM"
      ]
    },
    {
      "cell_type": "code",
      "execution_count": 2,
      "id": "2c130b8a",
      "metadata": {},
      "outputs": [],
      "source": [
        "#  Imports & DSPy/Ollama setup\n",
        "import csv\n",
        "import io\n",
        "import pandas as pd\n",
        "import dspy\n",
        "import litellm\n",
        "\n",
        "litellm.drop_params = True\n",
        "\n",
        "lm = dspy.LM(\n",
        "    \"ollama_chat/llama3.2\",\n",
        "    api_base=\"http://localhost:11434\",\n",
        "    api_key=\"\"\n",
        ")\n",
        "dspy.settings.configure(lm=lm)\n"
      ]
    },
    {
      "cell_type": "markdown",
      "metadata": {},
      "source": [
        "## Step 1 Load Original Dataset"
      ]
    },
    {
      "cell_type": "code",
      "execution_count": 3,
      "metadata": {},
      "outputs": [
        {
          "name": "stdout",
          "output_type": "stream",
          "text": [
            "\n",
            "Original Dataset:\n",
            "   Customer_ID  Salary  Expenses Region\n",
            "0        C001   55000     20000  North\n",
            "1        C002  120000     80000  South\n",
            "2        C003   75000     40000   East\n",
            "3        C004   25000     10000   West\n",
            "4        C005  180000    120000  North\n"
          ]
        }
      ],
      "source": [
        "import pandas as pd\n",
        "try:\n",
        "    df_input = pd.read_csv(\"data/sales_data.csv\")\n",
        "    print(\"\\nOriginal Dataset:\\n\", df_input.head())\n",
        "except FileNotFoundError:\n",
        "    print(\" No 'sales_data.csv' found.\")"
      ]
    },
    {
      "cell_type": "markdown",
      "metadata": {},
      "source": [
        "## Step: 2 Column-Level Signatures with DSPy\n",
        "These signatures define how synthetic data is generated per column with chain-of-thought reasoning."
      ]
    },
    {
      "cell_type": "code",
      "execution_count": 4,
      "metadata": {},
      "outputs": [],
      "source": [
        "import dspy\n",
        "from pydantic import BaseModel, field_validator, model_validator\n",
        "from typing import ClassVar\n",
        "\n",
        "# Salary Generator\n",
        "class SalaryGen(dspy.Signature):\n",
        "    seed = dspy.InputField()\n",
        "    thought = dspy.OutputField(desc=\"Reason about generating salary in range 10000-200000\")\n",
        "    Salary_in = dspy.InputField(desc=\"Original salary from input row\")\n",
        "    Salary = dspy.OutputField(desc=\"Final integer salary between 10000 and 200000. Output only the number.\")\n",
        "\n",
        "# Expenses Generator\n",
        "class ExpensesGen(dspy.Signature):\n",
        "    seed = dspy.InputField()\n",
        "    thought = dspy.OutputField(desc=\"Reason about generating expenses < salary\")\n",
        "    Salary_in = dspy.InputField(desc=\"Original salary from input row\")\n",
        "    Expenses_in = dspy.InputField(desc=\"Original expenses from input row\")\n",
        "    Expenses = dspy.OutputField(desc=\"Final integer expenses, positive and < Salary_in. Output only the number.\")\n",
        "\n",
        "# Region Generator\n",
        "class RegionGen(dspy.Signature):\n",
        "    seed = dspy.InputField()\n",
        "    thought = dspy.OutputField(desc=\"Reason about picking exactly one region\")\n",
        "    Region_in = dspy.InputField(desc=\"Original region from input row\")\n",
        "    Region = dspy.OutputField(desc=\"Final region: North, South, East, or West\")"
      ]
    },
    {
      "cell_type": "markdown",
      "metadata": {},
      "source": [
        "## Step:3 Pydantic v2 Model\n",
        "Define a model to validate the synthetic data with constraints and auto-increment Customer_IDs."
      ]
    },
    {
      "cell_type": "code",
      "execution_count": 5,
      "metadata": {},
      "outputs": [],
      "source": [
        "class SyntheticRowModel(BaseModel):\n",
        "    Customer_ID: str\n",
        "    Salary: int\n",
        "    Expenses: int\n",
        "    Region: str\n",
        "\n",
        "    _id_counter: ClassVar[int] = 0\n",
        "\n",
        "    @classmethod\n",
        "    def generate_id(cls) -> str:\n",
        "        cls._id_counter += 1\n",
        "        return f\"C{cls._id_counter:03d}\"\n",
        "\n",
        "    @field_validator(\"Salary\")\n",
        "    @classmethod\n",
        "    def validate_salary(cls, v: int):\n",
        "        if not (10_000 <= v <= 200_000):\n",
        "            raise ValueError(\"Salary must be between 10,000 and 200,000\")\n",
        "        return v\n",
        "\n",
        "    @field_validator(\"Region\")\n",
        "    @classmethod\n",
        "    def validate_region(cls, v: str):\n",
        "        allowed = {\"North\", \"South\", \"East\", \"West\"}\n",
        "        if v not in allowed:\n",
        "            raise ValueError(f\"Region must be one of {allowed}\")\n",
        "        return v\n",
        "\n",
        "    @model_validator(mode=\"after\")\n",
        "    def validate_expenses_vs_salary(self):\n",
        "        if self.Expenses >= self.Salary:\n",
        "            raise ValueError(\"Expenses must be less than Salary\")\n",
        "        if self.Expenses < 0:\n",
        "            raise ValueError(\"Expenses must be positive\")\n",
        "        return self"
      ]
    },
    {
      "cell_type": "markdown",
      "metadata": {},
      "source": [
        "## Step: 4 Agentic Row Generator\n",
        "This module uses DSPy predictors to generate synthetic rows."
      ]
    },
    {
      "cell_type": "code",
      "execution_count": 6,
      "metadata": {},
      "outputs": [],
      "source": [
        "class SyntheticRowAgent(dspy.Module):\n",
        "    def __init__(self):\n",
        "        super().__init__()\n",
        "        self.salary_agent = dspy.Predict(SalaryGen, temperature=0)\n",
        "        self.expenses_agent = dspy.Predict(ExpensesGen, temperature=0)\n",
        "        self.region_agent = dspy.Predict(RegionGen, temperature=0.5)\n",
        "\n",
        "    def forward(self, seed: str, row):\n",
        "        salary = self.salary_agent(seed=seed, Salary_in=row['Salary'])\n",
        "        expenses = self.expenses_agent(seed=seed, Salary_in=row['Salary'], Expenses_in=row['Expenses'])\n",
        "        region = self.region_agent(seed=seed, Region_in=row['Region'])\n",
        "\n",
        "        return {\n",
        "            \"Salary\": salary.Salary,\n",
        "            \"Expenses\": expenses.Expenses,\n",
        "            \"Region\": region.Region,\n",
        "        }"
      ]
    },
    {
      "cell_type": "markdown",
      "metadata": {},
      "source": [
        "## Step: 5 Helper Function: Generate Single Validated Row"
      ]
    },
    {
      "cell_type": "code",
      "execution_count": 7,
      "metadata": {},
      "outputs": [],
      "source": [
        "def generate_unique_row(agent, seed, row):\n",
        "    synthetic_row = agent(seed=seed, row=row)\n",
        "    synthetic_row[\"Customer_ID\"] = SyntheticRowModel.generate_id()\n",
        "    validated_row = SyntheticRowModel(**synthetic_row)\n",
        "    return validated_row.model_dump()"
      ]
    },
    {
      "cell_type": "markdown",
      "metadata": {},
      "source": [
        "## Step: 6 Generate Full Synthetic Dataset"
      ]
    },
    {
      "cell_type": "code",
      "execution_count": 8,
      "metadata": {},
      "outputs": [],
      "source": [
        "def generate_synthetic_data_unique(df_input, n_samples_per_row=2):\n",
        "    agent = SyntheticRowAgent()\n",
        "    synthetic_records = []\n",
        "\n",
        "    for idx, row in df_input.iterrows():\n",
        "        for i in range(n_samples_per_row):\n",
        "            seed = f\"{idx}-{i}\"\n",
        "            unique_row = generate_unique_row(agent, seed, row)\n",
        "            synthetic_records.append(unique_row)\n",
        "\n",
        "    df_synthetic = pd.DataFrame(synthetic_records)\n",
        "    return df_synthetic"
      ]
    },
    {
      "cell_type": "markdown",
      "metadata": {},
      "source": [
        "## Step : 7 Run Synthetic Generation"
      ]
    },
    {
      "cell_type": "code",
      "execution_count": 9,
      "metadata": {},
      "outputs": [
        {
          "data": {
            "text/html": [
              "<div>\n",
              "<style scoped>\n",
              "    .dataframe tbody tr th:only-of-type {\n",
              "        vertical-align: middle;\n",
              "    }\n",
              "\n",
              "    .dataframe tbody tr th {\n",
              "        vertical-align: top;\n",
              "    }\n",
              "\n",
              "    .dataframe thead th {\n",
              "        text-align: right;\n",
              "    }\n",
              "</style>\n",
              "<table border=\"1\" class=\"dataframe\">\n",
              "  <thead>\n",
              "    <tr style=\"text-align: right;\">\n",
              "      <th></th>\n",
              "      <th>Customer_ID</th>\n",
              "      <th>Salary</th>\n",
              "      <th>Expenses</th>\n",
              "      <th>Region</th>\n",
              "    </tr>\n",
              "  </thead>\n",
              "  <tbody>\n",
              "    <tr>\n",
              "      <th>0</th>\n",
              "      <td>C001</td>\n",
              "      <td>150000</td>\n",
              "      <td>20000</td>\n",
              "      <td>North</td>\n",
              "    </tr>\n",
              "    <tr>\n",
              "      <th>1</th>\n",
              "      <td>C002</td>\n",
              "      <td>150000</td>\n",
              "      <td>15000</td>\n",
              "      <td>East</td>\n",
              "    </tr>\n",
              "    <tr>\n",
              "      <th>2</th>\n",
              "      <td>C003</td>\n",
              "      <td>150000</td>\n",
              "      <td>80000</td>\n",
              "      <td>North</td>\n",
              "    </tr>\n",
              "    <tr>\n",
              "      <th>3</th>\n",
              "      <td>C004</td>\n",
              "      <td>150000</td>\n",
              "      <td>80000</td>\n",
              "      <td>North</td>\n",
              "    </tr>\n",
              "    <tr>\n",
              "      <th>4</th>\n",
              "      <td>C005</td>\n",
              "      <td>150000</td>\n",
              "      <td>40000</td>\n",
              "      <td>East</td>\n",
              "    </tr>\n",
              "    <tr>\n",
              "      <th>5</th>\n",
              "      <td>C006</td>\n",
              "      <td>150000</td>\n",
              "      <td>15000</td>\n",
              "      <td>East</td>\n",
              "    </tr>\n",
              "    <tr>\n",
              "      <th>6</th>\n",
              "      <td>C007</td>\n",
              "      <td>15000</td>\n",
              "      <td>10000</td>\n",
              "      <td>North</td>\n",
              "    </tr>\n",
              "    <tr>\n",
              "      <th>7</th>\n",
              "      <td>C008</td>\n",
              "      <td>150000</td>\n",
              "      <td>8000</td>\n",
              "      <td>North</td>\n",
              "    </tr>\n",
              "    <tr>\n",
              "      <th>8</th>\n",
              "      <td>C009</td>\n",
              "      <td>150000</td>\n",
              "      <td>60000</td>\n",
              "      <td>East</td>\n",
              "    </tr>\n",
              "    <tr>\n",
              "      <th>9</th>\n",
              "      <td>C010</td>\n",
              "      <td>150000</td>\n",
              "      <td>60000</td>\n",
              "      <td>West</td>\n",
              "    </tr>\n",
              "  </tbody>\n",
              "</table>\n",
              "</div>"
            ],
            "text/plain": [
              "  Customer_ID  Salary  Expenses Region\n",
              "0        C001  150000     20000  North\n",
              "1        C002  150000     15000   East\n",
              "2        C003  150000     80000  North\n",
              "3        C004  150000     80000  North\n",
              "4        C005  150000     40000   East\n",
              "5        C006  150000     15000   East\n",
              "6        C007   15000     10000  North\n",
              "7        C008  150000      8000  North\n",
              "8        C009  150000     60000   East\n",
              "9        C010  150000     60000   West"
            ]
          },
          "execution_count": 9,
          "metadata": {},
          "output_type": "execute_result"
        }
      ],
      "source": [
        "df_synthetic = generate_synthetic_data_unique(df_input, n_samples_per_row=2)\n",
        "df_synthetic.to_csv(\"data/synthetic_sales_data.csv\", index=False)\n",
        "df_synthetic.head(10)"
      ]
    }
  ],
  "metadata": {
    "kernelspec": {
      "display_name": "venv",
      "language": "python",
      "name": "python3"
    },
    "language_info": {
      "codemirror_mode": {
        "name": "ipython",
        "version": 3
      },
      "file_extension": ".py",
      "mimetype": "text/x-python",
      "name": "python",
      "nbconvert_exporter": "python",
      "pygments_lexer": "ipython3",
      "version": "3.11.9"
    }
  },
  "nbformat": 4,
  "nbformat_minor": 5
}
