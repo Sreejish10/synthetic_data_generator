{
 "cells": [
  {
   "cell_type": "markdown",
   "id": "b2409ddd",
   "metadata": {},
   "source": [
    "### Demonstrates how to configure **DSPy** to work with a locally \n",
    "### hosted **Ollama** LLM (Llama 3.2). Dspy: https://dspy.ai/ Its a declarative framework enabling us to build AI worflows using LLM"
   ]
  },
  {
   "cell_type": "code",
   "execution_count": 43,
   "id": "ee960291",
   "metadata": {},
   "outputs": [],
   "source": [
    "import csv\n",
    "import io\n",
    "import random\n",
    "import dspy\n",
    "import litellm\n",
    "\n",
    "# Drop unsupported params for Ollama\n",
    "litellm.drop_params = True\n",
    "\n",
    "# Configure OllamaLocal LM\n",
    "lm = dspy.LM(\n",
    "    \"ollama_chat/llama3.2\",\n",
    "    api_base=\"http://localhost:11434\",\n",
    "    api_key=\"\"\n",
    ")\n",
    "dspy.settings.configure(lm=lm)\n"
   ]
  },
  {
   "cell_type": "code",
   "execution_count": null,
   "id": "df92243f",
   "metadata": {},
   "outputs": [
    {
     "name": "stdout",
     "output_type": "stream",
     "text": [
      "\n",
      " Original Dataset:\n",
      "   Customer_ID  Salary  Expenses Region\n",
      "0        C001   55000     20000  North\n",
      "1        C002  120000     80000  South\n",
      "2        C003   75000     40000   East\n",
      "3        C004   25000     10000   West\n",
      "4        C005  180000    120000  North\n"
     ]
    }
   ],
   "source": [
    "# Load original dataset \n",
    "import pandas as pd\n",
    "\n",
    "try:\n",
    "   \n",
    "    df = pd.read_csv(\"data/sales_data.csv\")\n",
    "    print(\"\\n Original Dataset:\\n\", df.head())\n",
    "except FileNotFoundError:\n",
    "    print(\" No 'sales_data.csv' found.\")\n",
    "\n"
   ]
  },
  {
   "cell_type": "markdown",
   "id": "d394df06",
   "metadata": {},
   "source": [
    "### DSPy Signature  \n",
    "A **Signature** in DSPy defines the schema of inputs and outputs for an LLM call, acting like a typed contract that guides data generation and reasoning.  \n"
   ]
  },
  {
   "cell_type": "code",
   "execution_count": 3,
   "id": "2f41abe6",
   "metadata": {},
   "outputs": [],
   "source": [
    "# Define signature for synthetic sales record generation\n",
    "class SalesRecordGen(dspy.Signature):\n",
    "    \"\"\"Generate synthetic sales dataset rows with Customer_ID, Salary, Expenses, Region.\"\"\"\n",
    "    seed = dspy.InputField(desc=\"random seed string for variation\")\n",
    "    Customer_ID = dspy.OutputField(desc=\"unique customer ID like C123\")\n",
    "    Salary = dspy.OutputField(desc=\"monthly salary in range 20000-200000\")\n",
    "    Expenses = dspy.OutputField(desc=\"monthly expenses (positive number)\")\n",
    "    Region = dspy.OutputField(desc=\"Region, one of North, South, East, West\")\n",
    "\n",
    "\n",
    "# Function to generate synthetic sales dataset\n",
    "def generate_sales_data(sample_size: int = 5) -> str:\n",
    "    predictor = dspy.Predict(SalesRecordGen, n=1, max_tokens=150, temperature=0.7)\n",
    "    synthetic_records = []\n",
    "\n",
    "    for _ in range(sample_size):\n",
    "        dummy_input = str(random.randint(1, 1000))\n",
    "        result = predictor(seed=dummy_input)\n",
    "        synthetic_records.append(result)\n",
    "\n",
    "    # Write CSV into memory\n",
    "    output = io.StringIO()\n",
    "    writer = csv.writer(output, quoting=csv.QUOTE_MINIMAL)\n",
    "    writer.writerow([\"Customer_ID\", \"Salary\", \"Expenses\", \"Region\"])\n",
    "    for r in synthetic_records:\n",
    "        writer.writerow([r.Customer_ID, r.Salary, r.Expenses, r.Region])\n",
    "\n",
    "    csv_content = output.getvalue()\n",
    "    output.close()\n",
    "    return csv_content\n"
   ]
  },
  {
   "cell_type": "markdown",
   "id": "06bdd104",
   "metadata": {},
   "source": [
    "Lets begin"
   ]
  },
  {
   "cell_type": "markdown",
   "id": "966cf3d0",
   "metadata": {},
   "source": [
    "Generate syntehtic data"
   ]
  },
  {
   "cell_type": "code",
   "execution_count": null,
   "id": "f2f8544e",
   "metadata": {},
   "outputs": [
    {
     "name": "stdout",
     "output_type": "stream",
     "text": [
      "\n",
      "🤖 Synthetic Dataset:\n",
      " Customer_ID,Salary,Expenses,Region\n",
      "C123,150000,5000,East\n",
      "C123,150000,5000,North\n",
      "C123,150000,5000,South\n",
      "C1234,$18392,500,North\n",
      "C989,165000,5000,East\n",
      "\n"
     ]
    }
   ],
   "source": [
    "synthetic_structural_csv = generate_sales_data(sample_size=5)\n",
    "print(\"\\n Synthetic Dataset:\\n\", synthetic_structural_csv)"
   ]
  },
  {
   "cell_type": "markdown",
   "id": "1eaed9ba",
   "metadata": {},
   "source": [
    "Statistical evaluation of generated syntehtic data"
   ]
  },
  {
   "cell_type": "code",
   "execution_count": 37,
   "id": "0ef63389",
   "metadata": {},
   "outputs": [],
   "source": [
    "def evaluate_sales_structural_realism(csv_content: str):\n",
    "    \"\"\"\n",
    "    Structural Realism checks:\n",
    "    1. Schema consistency\n",
    "    2. Data type correctness\n",
    "    3. Value ranges (Salary 20k–200k, Expenses >= 0, valid Region)\n",
    "    \"\"\"\n",
    "    reader = csv.DictReader(io.StringIO(csv_content))\n",
    "    required_columns = [\"Customer_ID\", \"Salary\", \"Expenses\", \"Region\"]\n",
    "\n",
    "    if reader.fieldnames != required_columns:\n",
    "        print(\" Schema mismatch! Expected:\", required_columns)\n",
    "        return False\n",
    "\n",
    "    realism_pass = True\n",
    "\n",
    "    for row in reader:\n",
    "        try:\n",
    "            salary = float(row[\"Salary\"])\n",
    "            expenses = float(row[\"Expenses\"])\n",
    "        except ValueError:\n",
    "            print(f\" Invalid numeric values in row: {row}\")\n",
    "            realism_pass = False\n",
    "            continue\n",
    "\n",
    "        if not (10000 <= salary <= 200000):\n",
    "            print(f\" Salary out of range: {salary} in row {row}\")\n",
    "            realism_pass = False\n",
    "\n",
    "        if expenses < 0:\n",
    "            print(f\" Expenses negative: {expenses} in row {row}\")\n",
    "            realism_pass = False\n",
    "\n",
    "        if row[\"Region\"] not in [\"North\", \"South\", \"East\", \"West\"]:\n",
    "            print(f\" Invalid Region: {row['Region']} in row {row}\")\n",
    "            realism_pass = False\n",
    "\n",
    "    if realism_pass:\n",
    "        print(\" Structural Realism: PASSED (schema + types + ranges ok)\")\n",
    "    else:\n",
    "        print(\" Structural Realism: ISSUES FOUND\")\n",
    "\n",
    "    return realism_pass\n"
   ]
  },
  {
   "cell_type": "markdown",
   "id": "f5fb790c",
   "metadata": {},
   "source": [
    "Evaluate synthetic data"
   ]
  },
  {
   "cell_type": "code",
   "execution_count": 8,
   "id": "cbc4174e",
   "metadata": {},
   "outputs": [
    {
     "name": "stdout",
     "output_type": "stream",
     "text": [
      " Invalid numeric values in row: {'Customer_ID': 'C1234', 'Salary': '$18392', 'Expenses': '500', 'Region': 'North'}\n",
      " Structural Realism: ISSUES FOUND\n"
     ]
    },
    {
     "data": {
      "text/plain": [
       "False"
      ]
     },
     "execution_count": 8,
     "metadata": {},
     "output_type": "execute_result"
    }
   ],
   "source": [
    "evaluate_sales_structural_realism(synthetic_structural_csv)"
   ]
  },
  {
   "cell_type": "markdown",
   "id": "8984a8b0",
   "metadata": {},
   "source": [
    "Lets modify the signature to take care of this issue"
   ]
  },
  {
   "cell_type": "code",
   "execution_count": 35,
   "id": "e1503681",
   "metadata": {},
   "outputs": [],
   "source": [
    "# Define signature for synthetic sales record generation\n",
    "class SalesRecordGen(dspy.Signature):\n",
    "    \"\"\"Generate synthetic sales dataset rows with Customer_ID, Salary, Expenses, Region.\"\"\"\n",
    "    seed = dspy.InputField(desc=\"random seed string for variation\")\n",
    "    Customer_ID = dspy.OutputField(desc=\"unique customer ID like C123\")\n",
    "    Salary = dspy.OutputField(desc=\"integer salary strictly between 10000 and 200000\")\n",
    "    Expenses = dspy.OutputField(desc=\"integer expenses strictly positive and less than Salary\")\n",
    "    Region = dspy.OutputField(desc=\"Region, one of North, South, East, West\")\n",
    "\n",
    "\n",
    "# Function to generate synthetic sales dataset\n",
    "def generate_sales_data(sample_size: int = 5) -> str:\n",
    "    predictor = dspy.Predict(SalesRecordGen, n=1, max_tokens=150, temperature=0.9)\n",
    "    synthetic_records = []\n",
    "\n",
    "    for _ in range(sample_size):\n",
    "        dummy_input = str(random.randint(1, 1000))\n",
    "        result = predictor(seed=dummy_input)\n",
    "        synthetic_records.append(result)\n",
    "\n",
    "    # Write CSV into memory\n",
    "    output = io.StringIO()\n",
    "    writer = csv.writer(output, quoting=csv.QUOTE_MINIMAL)\n",
    "    writer.writerow([\"Customer_ID\", \"Salary\", \"Expenses\", \"Region\"])\n",
    "    for r in synthetic_records:\n",
    "        writer.writerow([r.Customer_ID, r.Salary, r.Expenses, r.Region])\n",
    "\n",
    "    csv_content = output.getvalue()\n",
    "    output.close()\n",
    "    return csv_content\n"
   ]
  },
  {
   "cell_type": "code",
   "execution_count": 36,
   "id": "ee00cbf7",
   "metadata": {},
   "outputs": [],
   "source": [
    "synthetic_structural_csv = generate_sales_data(sample_size=5)"
   ]
  },
  {
   "cell_type": "code",
   "execution_count": 38,
   "id": "6545844b",
   "metadata": {},
   "outputs": [
    {
     "name": "stdout",
     "output_type": "stream",
     "text": [
      "Customer_ID,Salary,Expenses,Region\n",
      "C123,150000,30000,East\n",
      "C708,175000,35000,East\n",
      "C123,185916,17445,North\n",
      "C593,141112,11411,East\n",
      "C123,175119,14251,West\n",
      "\n"
     ]
    }
   ],
   "source": [
    "print(synthetic_structural_csv)"
   ]
  },
  {
   "cell_type": "code",
   "execution_count": 39,
   "id": "fc8f10ad",
   "metadata": {},
   "outputs": [
    {
     "name": "stdout",
     "output_type": "stream",
     "text": [
      " Structural Realism: PASSED (schema + types + ranges ok)\n"
     ]
    },
    {
     "data": {
      "text/plain": [
       "True"
      ]
     },
     "execution_count": 39,
     "metadata": {},
     "output_type": "execute_result"
    }
   ],
   "source": [
    "evaluate_sales_structural_realism(synthetic_structural_csv)"
   ]
  }
 ],
 "metadata": {
  "kernelspec": {
   "display_name": ".synthetic",
   "language": "python",
   "name": "python3"
  },
  "language_info": {
   "codemirror_mode": {
    "name": "ipython",
    "version": 3
   },
   "file_extension": ".py",
   "mimetype": "text/x-python",
   "name": "python",
   "nbconvert_exporter": "python",
   "pygments_lexer": "ipython3",
   "version": "3.11.9"
  }
 },
 "nbformat": 4,
 "nbformat_minor": 5
}
